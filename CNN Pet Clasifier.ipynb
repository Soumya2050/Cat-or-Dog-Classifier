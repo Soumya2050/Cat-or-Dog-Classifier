{
 "cells": [
  {
   "cell_type": "markdown",
   "metadata": {},
   "source": [
    "# Convolutional Neural Network"
   ]
  },
  {
   "cell_type": "code",
   "execution_count": 1,
   "metadata": {},
   "outputs": [],
   "source": [
    "# Installing Theano\n",
    "# pip install --upgrade --no-deps git+git://github.com/Theano/Theano.git\n",
    "\n",
    "# Installing Tensorflow\n",
    "# pip install tensorflow\n",
    "\n",
    "# Installing Keras\n",
    "# pip install --upgrade keras"
   ]
  },
  {
   "cell_type": "code",
   "execution_count": 2,
   "metadata": {},
   "outputs": [
    {
     "name": "stderr",
     "output_type": "stream",
     "text": [
      "Using TensorFlow backend.\n"
     ]
    }
   ],
   "source": [
    "# Part 1 - Building the CNN\n",
    "\n",
    "# Importing the Keras libraries and packages\n",
    "from keras.models import Sequential\n",
    "from keras.layers import Convolution2D\n",
    "from keras.layers import MaxPooling2D\n",
    "from keras.layers import Flatten\n",
    "from keras.layers import Dense"
   ]
  },
  {
   "cell_type": "code",
   "execution_count": 3,
   "metadata": {},
   "outputs": [],
   "source": [
    "# Initialising the CNN\n",
    "classifier = Sequential()"
   ]
  },
  {
   "cell_type": "code",
   "execution_count": 4,
   "metadata": {},
   "outputs": [
    {
     "name": "stderr",
     "output_type": "stream",
     "text": [
      "C:\\ProgramData\\Anaconda3\\lib\\site-packages\\ipykernel_launcher.py:6: UserWarning: Update your `Conv2D` call to the Keras 2 API: `Conv2D(32, (3, 3), input_shape=(64, 64, 3..., activation=\"relu\")`\n",
      "  \n"
     ]
    }
   ],
   "source": [
    "#ctrl+i to get info\n",
    "# Step 1 - Adding Convolution layer\n",
    "# In convolution step we create feature map\n",
    "# in input_shape we use 3 for colour image 1 for black and white\n",
    "# we use relu rectifier activation to make sure we are not getting negative pixel\n",
    "classifier.add(Convolution2D(32, 3, 3, input_shape = (64, 64, 3), activation = 'relu'))\n"
   ]
  },
  {
   "cell_type": "code",
   "execution_count": 5,
   "metadata": {},
   "outputs": [],
   "source": [
    "# Step 2 - Adding Pooling layer\n",
    "# We are taking stride 2 so we are not going to lose the information of image\n",
    "classifier.add(MaxPooling2D(pool_size = (2, 2)))"
   ]
  },
  {
   "cell_type": "code",
   "execution_count": 6,
   "metadata": {},
   "outputs": [],
   "source": [
    "# Adding a second convolutional layer\n",
    "classifier.add(Convolution2D(32, (3, 3), activation = 'relu'))\n",
    "classifier.add(MaxPooling2D(pool_size = (2, 2)))"
   ]
  },
  {
   "cell_type": "code",
   "execution_count": 7,
   "metadata": {},
   "outputs": [],
   "source": [
    "# Step 3 - Flattening\n",
    "classifier.add(Flatten())\n"
   ]
  },
  {
   "cell_type": "code",
   "execution_count": 8,
   "metadata": {},
   "outputs": [],
   "source": [
    "# Step 4 - Full connection\n",
    "# We use sigmoid because the output is in binery, if its more then 2 we use softmax\n",
    "classifier.add(Dense(units = 128, activation = 'relu'))\n",
    "classifier.add(Dense(units = 1, activation = 'sigmoid'))\n"
   ]
  },
  {
   "cell_type": "code",
   "execution_count": 9,
   "metadata": {},
   "outputs": [],
   "source": [
    "# Compiling the CNN\n",
    "# Here we to calculate the loss function (sacrtistic gradient decent)\n",
    "# IN loss function we use binery because its binary class predection\n",
    "# If it multiclass then we use Categorical_entropy \n",
    "# Higher target size means good pixel parten good accuracy\n",
    "#Also we can add second and third layer to get good accuracy\n",
    "classifier.compile(optimizer = 'adam', loss = 'binary_crossentropy', metrics = ['accuracy'])\n"
   ]
  },
  {
   "cell_type": "code",
   "execution_count": 10,
   "metadata": {},
   "outputs": [
    {
     "name": "stdout",
     "output_type": "stream",
     "text": [
      "Found 8000 images belonging to 2 classes.\n",
      "Found 2000 images belonging to 2 classes.\n",
      "Epoch 1/25\n",
      "8000/8000 [==============================] - 5093s 637ms/step - loss: 0.3645 - accuracy: 0.8293 - val_loss: 0.3019 - val_accuracy: 0.8105\n",
      "Epoch 2/25\n",
      "8000/8000 [==============================] - 4769s 596ms/step - loss: 0.1212 - accuracy: 0.9531 - val_loss: 0.7925 - val_accuracy: 0.8118\n",
      "Epoch 3/25\n",
      "8000/8000 [==============================] - 4750s 594ms/step - loss: 0.0577 - accuracy: 0.9794 - val_loss: 0.5540 - val_accuracy: 0.8092\n",
      "Epoch 4/25\n",
      "8000/8000 [==============================] - 15215s 2s/step - loss: 0.0414 - accuracy: 0.9856 - val_loss: 1.8914 - val_accuracy: 0.7919\n",
      "Epoch 5/25\n",
      "8000/8000 [==============================] - 4731s 591ms/step - loss: 0.0320 - accuracy: 0.9890 - val_loss: 2.7984 - val_accuracy: 0.7844\n",
      "Epoch 6/25\n",
      "8000/8000 [==============================] - 5279s 660ms/step - loss: 0.0276 - accuracy: 0.9908 - val_loss: 0.4939 - val_accuracy: 0.8092\n",
      "Epoch 7/25\n",
      "8000/8000 [==============================] - 5068s 633ms/step - loss: 0.0244 - accuracy: 0.9917 - val_loss: 1.1345 - val_accuracy: 0.8081\n",
      "Epoch 8/25\n",
      "8000/8000 [==============================] - 5129s 641ms/step - loss: 0.0211 - accuracy: 0.9929 - val_loss: 3.8406 - val_accuracy: 0.8126\n",
      "Epoch 9/25\n",
      "8000/8000 [==============================] - 5192s 649ms/step - loss: 0.0195 - accuracy: 0.9936 - val_loss: 1.8855 - val_accuracy: 0.8048\n",
      "Epoch 10/25\n",
      "8000/8000 [==============================] - 5207s 651ms/step - loss: 0.0161 - accuracy: 0.9947 - val_loss: 0.6424 - val_accuracy: 0.8148\n",
      "Epoch 11/25\n",
      "8000/8000 [==============================] - 5118s 640ms/step - loss: 0.0158 - accuracy: 0.9948 - val_loss: 1.6965 - val_accuracy: 0.8024\n",
      "Epoch 12/25\n",
      "8000/8000 [==============================] - 4976s 622ms/step - loss: 0.0144 - accuracy: 0.9953 - val_loss: 2.1985 - val_accuracy: 0.8075\n",
      "Epoch 13/25\n",
      "8000/8000 [==============================] - 5203s 650ms/step - loss: 0.0132 - accuracy: 0.9957 - val_loss: 2.1316 - val_accuracy: 0.8100\n",
      "Epoch 14/25\n",
      "8000/8000 [==============================] - 5410s 676ms/step - loss: 0.0122 - accuracy: 0.9961 - val_loss: 2.2196 - val_accuracy: 0.8071\n",
      "Epoch 15/25\n",
      "8000/8000 [==============================] - 5393s 674ms/step - loss: 0.0113 - accuracy: 0.9962 - val_loss: 1.7297 - val_accuracy: 0.7991\n",
      "Epoch 16/25\n",
      "8000/8000 [==============================] - 5308s 664ms/step - loss: 0.0122 - accuracy: 0.9962 - val_loss: 2.4327 - val_accuracy: 0.8104\n",
      "Epoch 17/25\n",
      "8000/8000 [==============================] - 5091s 636ms/step - loss: 0.0109 - accuracy: 0.9966 - val_loss: 1.3337 - val_accuracy: 0.8105\n",
      "Epoch 18/25\n",
      "8000/8000 [==============================] - 5129s 641ms/step - loss: 0.0103 - accuracy: 0.9967 - val_loss: 1.0765 - val_accuracy: 0.8049\n",
      "Epoch 19/25\n",
      "8000/8000 [==============================] - 5225s 653ms/step - loss: 0.0098 - accuracy: 0.9970 - val_loss: 1.9315 - val_accuracy: 0.8089\n",
      "Epoch 20/25\n",
      "8000/8000 [==============================] - 5250s 656ms/step - loss: 0.0094 - accuracy: 0.9972 - val_loss: 0.3906 - val_accuracy: 0.8071\n",
      "Epoch 21/25\n",
      "8000/8000 [==============================] - 5257s 657ms/step - loss: 0.0082 - accuracy: 0.9973 - val_loss: 1.2632 - val_accuracy: 0.8043\n",
      "Epoch 22/25\n",
      "8000/8000 [==============================] - 5338s 667ms/step - loss: 0.0087 - accuracy: 0.9974 - val_loss: 0.7887 - val_accuracy: 0.7992\n",
      "Epoch 23/25\n",
      "8000/8000 [==============================] - 7991s 999ms/step - loss: 0.0084 - accuracy: 0.9974 - val_loss: 5.3367 - val_accuracy: 0.7982\n",
      "Epoch 24/25\n",
      "8000/8000 [==============================] - 6263s 783ms/step - loss: 0.0078 - accuracy: 0.9975 - val_loss: 0.3494 - val_accuracy: 0.8107\n",
      "Epoch 25/25\n",
      "8000/8000 [==============================] - 6998s 875ms/step - loss: 0.0089 - accuracy: 0.9973 - val_loss: 1.3616 - val_accuracy: 0.8114\n"
     ]
    },
    {
     "data": {
      "text/plain": [
       "<keras.callbacks.callbacks.History at 0x1f71329e208>"
      ]
     },
     "execution_count": 10,
     "metadata": {},
     "output_type": "execute_result"
    }
   ],
   "source": [
    "# Image preprocessing Stage\n",
    "# We can follow the keras docomention for more details\n",
    "# Part 2 - Fitting the CNN to the images\n",
    "\n",
    "from keras.preprocessing.image import ImageDataGenerator\n",
    "\n",
    "train_datagen = ImageDataGenerator(rescale = 1./255,\n",
    "                                   shear_range = 0.2,\n",
    "                                   zoom_range = 0.2,\n",
    "                                   horizontal_flip = True)\n",
    "\n",
    "test_datagen = ImageDataGenerator(rescale = 1./255)\n",
    "\n",
    "training_set = train_datagen.flow_from_directory('dataset/training_set',\n",
    "                                                 target_size = (64, 64),\n",
    "                                                 batch_size = 32,\n",
    "                                                 class_mode = 'binary')\n",
    "\n",
    "test_set = test_datagen.flow_from_directory('dataset/test_set',\n",
    "                                            target_size = (64, 64),\n",
    "                                            batch_size = 32,\n",
    "                                            class_mode = 'binary')\n",
    "\n",
    "classifier.fit_generator(training_set,\n",
    "                         steps_per_epoch = 8000,\n",
    "                         epochs = 25,\n",
    "                         validation_data = test_set,\n",
    "                         validation_steps = 2000)"
   ]
  },
  {
   "cell_type": "markdown",
   "metadata": {},
   "source": [
    "# Save the Model\n",
    "This save function saves:\n",
    "    * The architure of the model,allowing to recreatethe model \n",
    "    * The Weights of the model.\n",
    "    * The training configuration (loss,optimizer)\n",
    "    * The state of the optimzer ,allowing to resume training exactly where you left off."
   ]
  },
  {
   "cell_type": "code",
   "execution_count": 14,
   "metadata": {},
   "outputs": [],
   "source": [
    "classifier.save('Pet_Classifier_model.h5')"
   ]
  },
  {
   "cell_type": "code",
   "execution_count": 13,
   "metadata": {},
   "outputs": [],
   "source": [
    "# Save the waights only\n",
    "#fname = \"Cat_Dog_Classifier_CNN.hdf5\"\n",
    "#classifier.save_weights(fname,overwrite=True)"
   ]
  },
  {
   "cell_type": "code",
   "execution_count": null,
   "metadata": {},
   "outputs": [],
   "source": [
    "#Load The weights\n",
    "#fname = \"Cat_Dog_Classifier_CNN.hdf5\"\n",
    "#model.load_weights(fname)"
   ]
  },
  {
   "cell_type": "code",
   "execution_count": 23,
   "metadata": {},
   "outputs": [],
   "source": [
    "# Load the Model\n",
    "from keras.models import load_model\n",
    "new_model =load_model('Pet_Classifier_model.h5')"
   ]
  },
  {
   "cell_type": "code",
   "execution_count": null,
   "metadata": {},
   "outputs": [],
   "source": []
  },
  {
   "cell_type": "code",
   "execution_count": null,
   "metadata": {},
   "outputs": [],
   "source": []
  },
  {
   "cell_type": "markdown",
   "metadata": {},
   "source": [
    "# Test Our Model\n",
    " Making new predictions"
   ]
  },
  {
   "cell_type": "code",
   "execution_count": 24,
   "metadata": {},
   "outputs": [],
   "source": [
    "import numpy as np\n",
    "from keras.preprocessing import image\n",
    "test_image = image.load_img('dataset/single_prediction/cat_or_dog_1.jpg', target_size = (64, 64))\n",
    "test_image = image.img_to_array(test_image)\n",
    "test_image = np.expand_dims(test_image, axis = 0)\n",
    "result = new_model.predict(test_image)\n",
    "# For Extra clarity we label it to 0 & 1\n",
    "training_set.class_indices\n",
    "if result[0][0] == 1:\n",
    "    prediction = 'dog'\n",
    "else:\n",
    "    prediction = 'cat'"
   ]
  },
  {
   "cell_type": "code",
   "execution_count": 25,
   "metadata": {},
   "outputs": [
    {
     "data": {
      "text/plain": [
       "'dog'"
      ]
     },
     "execution_count": 25,
     "metadata": {},
     "output_type": "execute_result"
    }
   ],
   "source": [
    "# 1 means dog ,0 means cat \n",
    "prediction"
   ]
  },
  {
   "cell_type": "code",
   "execution_count": null,
   "metadata": {},
   "outputs": [],
   "source": []
  }
 ],
 "metadata": {
  "kernelspec": {
   "display_name": "Python 3",
   "language": "python",
   "name": "python3"
  },
  "language_info": {
   "codemirror_mode": {
    "name": "ipython",
    "version": 3
   },
   "file_extension": ".py",
   "mimetype": "text/x-python",
   "name": "python",
   "nbconvert_exporter": "python",
   "pygments_lexer": "ipython3",
   "version": "3.7.6"
  }
 },
 "nbformat": 4,
 "nbformat_minor": 4
}
